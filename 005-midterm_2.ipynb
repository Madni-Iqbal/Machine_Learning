{
 "cells": [
  {
   "cell_type": "markdown",
   "id": "f8429cb8",
   "metadata": {},
   "source": [
    "Overfitting: wo model jo train me to near 100 percent accuracy de lekin test me accuracy achi nahi de\n"
   ]
  },
  {
   "cell_type": "markdown",
   "id": "efeb5a86",
   "metadata": {},
   "source": [
    " Under fitting : jo model na training me acha ho na test me . yaani dono me accuracy achi nahi ho "
   ]
  },
  {
   "cell_type": "markdown",
   "id": "4477564f",
   "metadata": {},
   "source": [
    "Bais ek aisa mamla hai jahan machine learning model kisi ek cheez  ki taraf jhukawat rakhta hai, jis ki wajah se uski accuracy ghalt ho sakta hai. Yeh jhukao training data, algorithm ya phir data collection ki karkardagi ki wajah se paida ho sakta hai.\n",
    "\n",
    "Maslan, agar aik model ko sirf aik khaas qom ya jins ki madad se train kiya jaye, to woh doosron ki madad karte waqt ghalt faislay de sakta hai. Is ko \"bais\" kehtay hain kyunke model har cheez ko barabar tareeqay se nahi dekhta.\n",
    "\n",
    "Bais ki wajah se model ki kalaam (accuracy) kam ho sakti hai aur na-insaafi (unfairness) paida ho sakti hai, khas tor par jab model insano ki zindagi par asar andaz faislay lene mein istemal ho.\n",
    "\n",
    "Is liye, machine learning mein bais ko samajhna aur kam karna bohat zaroori hai taake model insaf par mabni aur bharose qabil ho."
   ]
  }
 ],
 "metadata": {
  "language_info": {
   "name": "python"
  }
 },
 "nbformat": 4,
 "nbformat_minor": 5
}
